{
 "cells": [
  {
   "cell_type": "code",
   "execution_count": 2,
   "id": "8e17598f-4fac-4a0a-877b-a80a9131609f",
   "metadata": {},
   "outputs": [],
   "source": [
    "# Libraries needed\n",
    "import matplotlib.pyplot as plt\n",
    "import numpy as np\n",
    "\n",
    "# Name of the model\n",
    "nome = \"server-v3-fine\"\n",
    "model_dir = f\"modelli/{nome}\""
   ]
  },
  {
   "cell_type": "code",
   "execution_count": 4,
   "id": "1fe8bf8b-b5e5-4561-92dd-a72d1e45b1af",
   "metadata": {},
   "outputs": [
    {
     "name": "stdout",
     "output_type": "stream",
     "text": [
      "Fine-tuning data not found.\n"
     ]
    }
   ],
   "source": [
    "try:\n",
    "    with open(f\"{model_dir}/train_loss_fine.txt\", \"r\") as f:\n",
    "        fineT_loss = [float(line.strip()) for line in f.readlines()]\n",
    "        \n",
    "    with open(f\"{model_dir}/train_acc_fine.txt\", \"r\") as f:\n",
    "        fineT_acc = [float(line.strip()) for line in f.readlines()]\n",
    "    \n",
    "except:\n",
    "    print(\"Fine-tuning data not found.\")"
   ]
  },
  {
   "cell_type": "code",
   "execution_count": null,
   "id": "bafc642d-4f85-4938-8623-5cba9bfa68e7",
   "metadata": {},
   "outputs": [],
   "source": [
    "try:\n",
    "    with open(f\"{model_dir}/val_loss_fine.txt\", \"r\") as f:\n",
    "        fineV_loss = [float(line.strip()) for line in f.readlines()]\n",
    "        \n",
    "    with open(f\"{model_dir}/val_acc_fine.txt\", \"r\") as f:\n",
    "        fineV_acc = [float(line.strip()) for line in f.readlines()]\n",
    "    \n",
    "except:\n",
    "    print(\"Fine-tuning data not found.\")"
   ]
  },
  {
   "cell_type": "markdown",
   "id": "c2060895-d56b-494e-9dc1-c2bc1f973ee6",
   "metadata": {},
   "source": [
    "## Plotting loss and accuracy during fine-tuning"
   ]
  },
  {
   "cell_type": "code",
   "execution_count": null,
   "id": "fb45c3d6-e14f-47c6-a783-18d794bfd7a6",
   "metadata": {},
   "outputs": [],
   "source": [
    "x = range(len(val_loss_fine))\n",
    "\n",
    "fig, ax = plt.subplot(1, 2)\n",
    "\n",
    "# Loss plot\n",
    "ax[0].plot(x, fineT_loss, color=\"red\", label=\"Training loss\")\n",
    "ax[0].plot(x, fineV_loss, color=\"green\", label=\"Validation loss\")\n",
    "ax[0].xlabel('Epoch')\n",
    "ax[0].ylabel('Loss')\n",
    "ax[0].title(f'Fine-tuning loss of {nome}')\n",
    "ax[0].legend()\n",
    "\n",
    "# Accuracy plot\n",
    "ax[1].plot(x, fineT_acc, color=\"red\", label=\"Training accuracy\")\n",
    "ax[1].plot(x, fineV_acc, color=\"green\", label=\"Validation accuracy\")\n",
    "ax[1].xlabel('Epoch')\n",
    "ax[1].ylabel('Accuracy')\n",
    "ax[1].title(f'Fine-tuning accuracy of {nome}')\n",
    "ax[1].legend()\n",
    "\n",
    "fig.show()"
   ]
  },
  {
   "cell_type": "code",
   "execution_count": 5,
   "id": "577f17bb-2282-4217-adc2-9363bcc11149",
   "metadata": {},
   "outputs": [
    {
     "name": "stdout",
     "output_type": "stream",
     "text": [
      "Training data not found.\n"
     ]
    }
   ],
   "source": [
    "try:\n",
    "    with open(f\"{model_dir}/train_loss.txt\", \"r\") as f:\n",
    "        train_loss = [float(line.strip()) for line in f.readlines()]\n",
    "        \n",
    "    with open(f\"{model_dir}/acc_{nome}.txt\", \"r\") as f:\n",
    "        train_acc = [float(line.strip()) for line in f.readlines()]\n",
    "    \n",
    "except:\n",
    "    print(\"Training data not found.\")"
   ]
  },
  {
   "cell_type": "code",
   "execution_count": null,
   "id": "5e092672-e118-49f6-8493-aadaebe55358",
   "metadata": {},
   "outputs": [],
   "source": []
  },
  {
   "cell_type": "code",
   "execution_count": null,
   "id": "e9dadabd-a428-44a7-9955-663f63238691",
   "metadata": {},
   "outputs": [],
   "source": [
    "try:\n",
    "    with open(f\"{model_dir}/val_loss.txt\", \"r\") as f:\n",
    "        val_loss = [float(line.strip()) for line in f.readlines()]\n",
    "        \n",
    "    with open(f\"{model_dir}/val_acc.txt\", \"r\") as f:\n",
    "        val_acc = [float(line.strip()) for line in f.readlines()]\n",
    "    \n",
    "except:\n",
    "    print(\"Validation data not found.\")"
   ]
  },
  {
   "cell_type": "code",
   "execution_count": null,
   "id": "d5367677-3f64-454f-b5d2-09217c0e13ac",
   "metadata": {},
   "outputs": [],
   "source": []
  }
 ],
 "metadata": {
  "kernelspec": {
   "display_name": "Python 3 (ipykernel)",
   "language": "python",
   "name": "python3"
  },
  "language_info": {
   "codemirror_mode": {
    "name": "ipython",
    "version": 3
   },
   "file_extension": ".py",
   "mimetype": "text/x-python",
   "name": "python",
   "nbconvert_exporter": "python",
   "pygments_lexer": "ipython3",
   "version": "3.10.12"
  }
 },
 "nbformat": 4,
 "nbformat_minor": 5
}
